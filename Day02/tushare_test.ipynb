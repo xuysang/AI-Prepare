{
 "cells": [
  {
   "cell_type": "code",
   "execution_count": 9,
   "id": "2e871e47",
   "metadata": {},
   "outputs": [
    {
     "name": "stdout",
     "output_type": "stream",
     "text": [
      "原始数据已保存到: data/301141SZ_raw.csv\n"
     ]
    }
   ],
   "source": [
    "import tushare as ts\n",
    "import os\n",
    "import pandas as pd\n",
    "\n",
    "pro = ts.pro_api('009b837590342f70f4809943cad19506195665ef835582819233aadb')\n",
    "# 确保输出所有列\n",
    "pd.set_option('display.max_columns', None)\n",
    "# 示例：平安银行(000001.SZ)，2024-01-01 到 2024-12-31\n",
    "df = pro.daily(ts_code='301141.SZ', start_date='20240101', end_date='20241231')\n",
    "# 保存原始数据为 CSV\n",
    "if not os.path.exists(\"data\"):\n",
    "    os.makedirs(\"data\")\n",
    "raw_csv_path = \"data/301141SZ_raw.csv\"\n",
    "df.to_csv(raw_csv_path, index=False, encoding=\"utf-8-sig\")\n",
    "print(f\"原始数据已保存到: {raw_csv_path}\")"
   ]
  },
  {
   "cell_type": "code",
   "execution_count": null,
   "id": "a63a0a67",
   "metadata": {},
   "outputs": [],
   "source": []
  }
 ],
 "metadata": {
  "kernelspec": {
   "display_name": "ai-python",
   "language": "python",
   "name": "python3"
  },
  "language_info": {
   "codemirror_mode": {
    "name": "ipython",
    "version": 3
   },
   "file_extension": ".py",
   "mimetype": "text/x-python",
   "name": "python",
   "nbconvert_exporter": "python",
   "pygments_lexer": "ipython3",
   "version": "3.10.18"
  }
 },
 "nbformat": 4,
 "nbformat_minor": 5
}
