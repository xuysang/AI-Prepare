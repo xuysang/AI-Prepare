{
 "cells": [
  {
   "cell_type": "code",
   "execution_count": 2,
   "id": "7fb9d3eb",
   "metadata": {},
   "outputs": [
    {
     "name": "stdout",
     "output_type": "stream",
     "text": [
      "\n",
      "# ===== 1. 创建数组 =====\n",
      "arr1: [1 2 3]\n",
      "全零数组：\n",
      " [[0. 0. 0.]\n",
      " [0. 0. 0.]]\n",
      "等差数组： [0 3 6 9]\n",
      "全1数组：\n",
      " [[1. 1. 1.]\n",
      " [1. 1. 1.]\n",
      " [1. 1. 1.]]\n",
      "等间距数组：\n",
      " [0.   0.25 0.5  0.75 1.  ]\n",
      "\n",
      "# ===== 2. 数组属性 =====\n",
      "arr1 shape (3,)\n",
      "arr2 dtype: float64\n",
      "arr4 ndim: 2\n",
      "\n",
      "# ===== 3. 数组切片 & 索引 =====\n",
      "mat:\n",
      " [[ 1  2  3  4]\n",
      " [ 5  6  7  8]\n",
      " [ 9 10 11 12]]\n",
      "第一行： [1 2 3 4]\n",
      "第一列: [1 5 9]\n",
      "前两行，前两列： [[1 2]\n",
      " [5 6]]\n",
      "大于5的元素： [ 6  7  8  9 10 11 12]\n",
      "高级索引： [ 2 12]\n"
     ]
    }
   ],
   "source": [
    "import numpy as np\n",
    "\n",
    "\n",
    "print(\"\\n# ===== 1. 创建数组 =====\")\n",
    "arr1 = np.array([1,2,3])\n",
    "print(\"arr1:\",arr1)\n",
    "arr2 = np.zeros((2,3))\n",
    "print(\"全零数组：\\n\",arr2)\n",
    "\n",
    "arr3 = np.arange(0,10,3)\n",
    "print(\"等差数组：\",arr3)\n",
    "\n",
    "arr4 = np.ones((3,3))\n",
    "print(\"全1数组：\\n\",arr4)\n",
    "\n",
    "arr5 = np.linspace(0,1,5)\n",
    "print(\"等间距数组：\\n\",arr5)\n",
    "\n",
    "\n",
    "print(\"\\n# ===== 2. 数组属性 =====\")\n",
    "print(\"arr1 shape\",arr1.shape)\n",
    "print(\"arr2 dtype:\",arr2.dtype)\n",
    "print(\"arr4 ndim:\",arr4.ndim) # 维度数\n",
    "\n",
    "print(\"\\n# ===== 3. 数组切片 & 索引 =====\")\n",
    "mat = np.arange(1,13).reshape(3,4)\n",
    "print(\"mat:\\n\",mat)\n",
    "print(\"第一行：\",mat[0])\n",
    "print(\"第一列:\",mat[:,0])\n",
    "print(\"前两行，前两列：\",mat[:2,:2])\n",
    "print(\"大于5的元素：\",mat[mat>5])\n",
    "print(\"高级索引：\",mat[[0,2],[1,3]]) # 定位 mat[0,1] 和 mat[2,3]"
   ]
  },
  {
   "cell_type": "code",
   "execution_count": 43,
   "id": "1a4cece5",
   "metadata": {},
   "outputs": [
    {
     "name": "stdout",
     "output_type": "stream",
     "text": [
      "\n",
      "# ===== 4. 数组运算 & 广播 =====\n",
      "a+b: [5 7 9]\n",
      "a*2: [2 4 6]\n",
      "广播相加：\n",
      " [[11 21 31]\n",
      " [12 22 32]\n",
      " [13 23 33]]\n"
     ]
    }
   ],
   "source": [
    "print(\"\\n# ===== 4. 数组运算 & 广播 =====\")\n",
    "a = np.array([1,2,3])\n",
    "b = np.array([4,5,6])\n",
    "print(\"a+b:\",a+b)\n",
    "print(\"a*2:\",a*2)\n",
    "\n",
    "# 广播示例 (列向量 + 行向量)\n",
    "x = np.array([[1],[2],[3]])\n",
    "y = np.array([10,20,30])\n",
    "print(\"广播相加：\\n\",x+y)"
   ]
  },
  {
   "cell_type": "code",
   "execution_count": 46,
   "id": "5e55bbb7",
   "metadata": {},
   "outputs": [
    {
     "name": "stdout",
     "output_type": "stream",
     "text": [
      "\n",
      "# ===== 5. 常用数学函数 =====\n",
      "mat: [[ 1  2  3  4]\n",
      " [ 5  6  7  8]\n",
      " [ 9 10 11 12]]\n",
      "sum: 78\n",
      "mean: 6.5\n",
      "max: 12\n",
      "min: 1\n",
      "std: 3.452052529534663\n",
      "argmax index: 11\n"
     ]
    }
   ],
   "source": [
    "print(\"\\n# ===== 5. 常用数学函数 =====\")\n",
    "print(\"mat:\" ,mat)\n",
    "print(\"sum:\",np.sum(mat))\n",
    "print(\"mean:\", np.mean(mat))\n",
    "print(\"max:\", np.max(mat))\n",
    "print(\"min:\", np.min(mat))\n",
    "print(\"std:\", np.std(mat))\n",
    "print(\"argmax index:\", np.argmax(mat))"
   ]
  },
  {
   "cell_type": "code",
   "execution_count": 5,
   "id": "229480cb",
   "metadata": {},
   "outputs": [
    {
     "name": "stdout",
     "output_type": "stream",
     "text": [
      "\n",
      "# 练习：5x5随机矩阵的列平均值\n",
      "rand_mat: [[6 1 5 3 9]\n",
      " [5 3 2 5 3]\n",
      " [4 7 7 7 1]\n",
      " [2 5 4 9 2]\n",
      " [7 9 6 8 9]]\n",
      "列平均值： [4.8 5.  4.8 6.4 4.8]\n"
     ]
    }
   ],
   "source": [
    "# 练习：生成一个 5x5 随机矩阵，计算它的每列平均值\n",
    "print(\"\\n# 练习：5x5随机矩阵的列平均值\")\n",
    "rand_mat = np.random.randint(1,10,size=(5,5))\n",
    "print(\"rand_mat:\",rand_mat)\n",
    "print(\"列平均值：\",np.mean(rand_mat,axis=0))"
   ]
  },
  {
   "cell_type": "code",
   "execution_count": 55,
   "id": "70adb2f8",
   "metadata": {},
   "outputs": [
    {
     "name": "stdout",
     "output_type": "stream",
     "text": [
      "a:\n",
      " [[ 0  1  2  3]\n",
      " [ 4  5  6  7]\n",
      " [ 8  9 10 11]\n",
      " [12 13 14 15]]\n",
      "[[4 5]\n",
      " [8 9]]\n"
     ]
    }
   ],
   "source": [
    "np.arange(10,50,5)\n",
    "a = np.arange(0,16).reshape(4,4)\n",
    "print(\"a:\\n\",a)\n",
    "print(a[1:3,0:2])"
   ]
  },
  {
   "cell_type": "code",
   "execution_count": 58,
   "id": "346f32cf",
   "metadata": {},
   "outputs": [
    {
     "name": "stdout",
     "output_type": "stream",
     "text": [
      "new_mat:\n",
      " [[8 5 6]\n",
      " [2 4 2]\n",
      " [4 2 5]]\n",
      "8\n",
      "2\n",
      "38\n",
      "4.222222222222222\n",
      "4.222222222222222\n"
     ]
    }
   ],
   "source": [
    "new_mat = np.random.randint(2,9,size=(3,3))\n",
    "print(\"new_mat:\\n\",new_mat)\n",
    "print(np.max(new_mat))\n",
    "print(np.min(new_mat))\n",
    "print(np.sum(new_mat))\n",
    "print(np.average(new_mat))\n",
    "print(np.mean(new_mat))"
   ]
  },
  {
   "cell_type": "code",
   "execution_count": null,
   "id": "87442297",
   "metadata": {},
   "outputs": [
    {
     "name": "stdout",
     "output_type": "stream",
     "text": [
      "[ 1  2  3  4  5  6  7  8  9 10 11 12 13 14 15 16 17 18 19]\n",
      "[np.int64(4), np.int64(16), np.int64(36), np.int64(64), np.int64(100), np.int64(144), np.int64(196), np.int64(256), np.int64(324)]\n"
     ]
    }
   ],
   "source": [
    "mat_0 = np.arange(1,20)\n",
    "print(mat_0)\n",
    "mat_0 = [x**2 for x in mat_0 if x%2==0]\n",
    "print(mat_0)"
   ]
  },
  {
   "cell_type": "code",
   "execution_count": null,
   "id": "b46ea1e6",
   "metadata": {},
   "outputs": [],
   "source": []
  }
 ],
 "metadata": {
  "kernelspec": {
   "display_name": "ai-python",
   "language": "python",
   "name": "python3"
  },
  "language_info": {
   "codemirror_mode": {
    "name": "ipython",
    "version": 3
   },
   "file_extension": ".py",
   "mimetype": "text/x-python",
   "name": "python",
   "nbconvert_exporter": "python",
   "pygments_lexer": "ipython3",
   "version": "3.10.18"
  }
 },
 "nbformat": 4,
 "nbformat_minor": 5
}
