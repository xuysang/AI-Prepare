{
 "cells": [
  {
   "cell_type": "code",
   "execution_count": 1,
   "id": "d33e3efc",
   "metadata": {},
   "outputs": [],
   "source": [
    "import pandas as pd\n",
    "import numpy as np\n",
    "import matplotlib.pyplot as plt"
   ]
  },
  {
   "cell_type": "code",
   "execution_count": 26,
   "id": "d8b7421e",
   "metadata": {},
   "outputs": [
    {
     "name": "stdout",
     "output_type": "stream",
     "text": [
      "\n",
      "# ===== 1. 创建 Series & DataFrame =====\n",
      "series: a    10\n",
      "b    20\n",
      "c    30\n",
      "dtype: int64\n"
     ]
    }
   ],
   "source": [
    "print(\"\\n# ===== 1. 创建 Series & DataFrame =====\")\n",
    "s = pd.Series([10,20,30],index=['a','b','c'])\n",
    "print(\"series:\",s)"
   ]
  },
  {
   "cell_type": "code",
   "execution_count": null,
   "id": "6976807c",
   "metadata": {},
   "outputs": [
    {
     "name": "stdout",
     "output_type": "stream",
     "text": [
      "\n",
      "DataFrame:\n",
      " [    name   age  score        date\n",
      "0    Tom  20.0   88.0  2024-06-01\n",
      "1  Jerry   NaN   92.0  2024-06-02\n",
      "2   Anna  22.0    NaN  2024-06-03\n",
      "3   None  25.0   75.0  2024-06-04\n",
      "4    Tom  20.0   88.0  2024-06-05]\n"
     ]
    }
   ],
   "source": [
    "data = {\n",
    "    \"name\": [\"Tom\", \"Jerry\", \"Anna\", None, \"Tom\"],\n",
    "    \"age\": [20, np.nan, 22, 25, 20],\n",
    "    \"score\": [88, 92, None, 75, 88],\n",
    "    \"date\": [\"2024-06-01\", \"2024-06-02\", \"2024-06-03\", \"2024-06-04\", \"2024-06-05\"]\n",
    "}\n",
    "df = pd.DataFrame(data)\n",
    "print(\"\\nDataFrame:\\n\",df)"
   ]
  },
  {
   "cell_type": "code",
   "execution_count": 18,
   "id": "74f576fe",
   "metadata": {},
   "outputs": [
    {
     "name": "stdout",
     "output_type": "stream",
     "text": [
      "\n",
      "# ===== 2. 读取 & 保存 CSV =====\n",
      "从CSV读取：\n",
      "     name   age  score        date\n",
      "0    Tom  20.0   88.0  2024-06-01\n",
      "1  Jerry   NaN   92.0  2024-06-02\n",
      "2   Anna  22.0    NaN  2024-06-03\n",
      "3    NaN  25.0   75.0  2024-06-04\n",
      "4    Tom  20.0   88.0  2024-06-05\n"
     ]
    }
   ],
   "source": [
    "print(\"\\n# ===== 2. 读取 & 保存 CSV =====\")\n",
    "df.to_csv(\"example.csv\",index=False)\n",
    "df2 = pd.read_csv(\"example.csv\")\n",
    "print(\"从CSV读取：\\n\",df2)"
   ]
  },
  {
   "cell_type": "code",
   "execution_count": 21,
   "id": "c33743dd",
   "metadata": {},
   "outputs": [
    {
     "name": "stdout",
     "output_type": "stream",
     "text": [
      "\n",
      "# ===== 3. head() / info() / describe() =====\n",
      "    name   age  score        date\n",
      "0    Tom  20.0   88.0  2024-06-01\n",
      "1  Jerry   NaN   92.0  2024-06-02\n",
      "2   Anna  22.0    NaN  2024-06-03\n",
      "<class 'pandas.core.frame.DataFrame'>\n",
      "RangeIndex: 5 entries, 0 to 4\n",
      "Data columns (total 4 columns):\n",
      " #   Column  Non-Null Count  Dtype  \n",
      "---  ------  --------------  -----  \n",
      " 0   name    4 non-null      object \n",
      " 1   age     4 non-null      float64\n",
      " 2   score   4 non-null      float64\n",
      " 3   date    5 non-null      object \n",
      "dtypes: float64(2), object(2)\n",
      "memory usage: 288.0+ bytes\n",
      "None\n",
      "             age      score\n",
      "count   4.000000   4.000000\n",
      "mean   21.750000  85.750000\n",
      "std     2.362908   7.410578\n",
      "min    20.000000  75.000000\n",
      "25%    20.000000  84.750000\n",
      "50%    21.000000  88.000000\n",
      "75%    22.750000  89.000000\n",
      "max    25.000000  92.000000\n"
     ]
    }
   ],
   "source": [
    "print(\"\\n# ===== 3. head() / info() / describe() =====\")\n",
    "print(df.head(3))\n",
    "print(df.info())\n",
    "print(df.describe())"
   ]
  },
  {
   "cell_type": "code",
   "execution_count": 27,
   "id": "1a54996e",
   "metadata": {},
   "outputs": [
    {
     "name": "stdout",
     "output_type": "stream",
     "text": [
      "\n",
      "# ===== 4. 选择数据 iloc / loc =====\n",
      "    name   age  score        date\n",
      "0    Tom  20.0   88.0  2024-06-01\n",
      "1  Jerry   NaN   92.0  2024-06-02\n",
      "2   Anna  22.0    NaN  2024-06-03\n",
      "3   None  25.0   75.0  2024-06-04\n",
      "4    Tom  20.0   88.0  2024-06-05\n",
      "iloc 前两行两列：\n",
      "     name   age\n",
      "0    Tom  20.0\n",
      "1  Jerry   NaN\n",
      "loc 按列名选择：\n",
      "     name  score\n",
      "0    Tom   88.0\n",
      "1  Jerry   92.0\n",
      "2   Anna    NaN\n",
      "3   None   75.0\n",
      "4    Tom   88.0\n"
     ]
    }
   ],
   "source": [
    "print(\"\\n# ===== 4. 选择数据 iloc / loc =====\")\n",
    "print(df)\n",
    "print(\"iloc 前两行两列：\\n\",df.iloc[:2,:2])\n",
    "print(\"loc 按列名选择：\\n\",df.loc[:,[\"name\",\"score\"]])"
   ]
  },
  {
   "cell_type": "code",
   "execution_count": 29,
   "id": "9c907af9",
   "metadata": {},
   "outputs": [
    {
     "name": "stdout",
     "output_type": "stream",
     "text": [
      "\n",
      "# ===== 5. 缺失值处理 =====\n",
      "    name   age  score        date\n",
      "0    Tom  20.0   88.0  2024-06-01\n",
      "1  Jerry   NaN   92.0  2024-06-02\n",
      "2   Anna  22.0    NaN  2024-06-03\n",
      "3   None  25.0   75.0  2024-06-04\n",
      "4    Tom  20.0   88.0  2024-06-05\n",
      "删除所有缺失值的行：\n",
      "   name   age  score        date\n",
      "0  Tom  20.0   88.0  2024-06-01\n",
      "4  Tom  20.0   88.0  2024-06-05\n",
      "缺失值填充0：\n",
      "     name   age  score        date\n",
      "0    Tom  20.0   88.0  2024-06-01\n",
      "1  Jerry   0.0   92.0  2024-06-02\n",
      "2   Anna  22.0    0.0  2024-06-03\n",
      "3      0  25.0   75.0  2024-06-04\n",
      "4    Tom  20.0   88.0  2024-06-05\n"
     ]
    }
   ],
   "source": [
    "print(\"\\n# ===== 5. 缺失值处理 =====\")\n",
    "print(df)\n",
    "print(\"删除所有缺失值的行：\\n\",df.dropna())\n",
    "print(\"缺失值填充0：\\n\",df.fillna(0))"
   ]
  },
  {
   "cell_type": "code",
   "execution_count": 30,
   "id": "5ea45553",
   "metadata": {},
   "outputs": [
    {
     "name": "stdout",
     "output_type": "stream",
     "text": [
      "\n",
      "# ===== 6. 重复值处理 =====\n",
      "去重：\n",
      "     name   age  score        date\n",
      "0    Tom  20.0   88.0  2024-06-01\n",
      "1  Jerry   NaN   92.0  2024-06-02\n",
      "2   Anna  22.0    NaN  2024-06-03\n",
      "3   None  25.0   75.0  2024-06-04\n",
      "4    Tom  20.0   88.0  2024-06-05\n"
     ]
    }
   ],
   "source": [
    "print(\"\\n# ===== 6. 重复值处理 =====\")\n",
    "print(\"去重：\\n\",df.drop_duplicates())"
   ]
  },
  {
   "cell_type": "code",
   "execution_count": 31,
   "id": "4be2be26",
   "metadata": {},
   "outputs": [
    {
     "name": "stdout",
     "output_type": "stream",
     "text": [
      "\n",
      "# ===== 7. 改列名 rename =====\n",
      "    Name   age  score        date\n",
      "0    Tom  20.0   88.0  2024-06-01\n",
      "1  Jerry   NaN   92.0  2024-06-02\n",
      "2   Anna  22.0    NaN  2024-06-03\n",
      "3   None  25.0   75.0  2024-06-04\n",
      "4    Tom  20.0   88.0  2024-06-05\n"
     ]
    }
   ],
   "source": [
    "print(\"\\n# ===== 7. 改列名 rename =====\")\n",
    "df_renamed = df.rename(columns={\"name\":\"Name\"})\n",
    "print(df_renamed.head())"
   ]
  },
  {
   "cell_type": "code",
   "execution_count": 32,
   "id": "b962c2c4",
   "metadata": {},
   "outputs": [
    {
     "name": "stdout",
     "output_type": "stream",
     "text": [
      "\n",
      "# ===== 8. 改数据类型 astype =====\n",
      "name      object\n",
      "age      float64\n",
      "score    float64\n",
      "date      object\n",
      "dtype: object\n",
      "name      object\n",
      "age        int64\n",
      "score    float64\n",
      "date      object\n",
      "dtype: object\n"
     ]
    }
   ],
   "source": [
    "print(\"\\n# ===== 8. 改数据类型 astype =====\")\n",
    "print(df.dtypes)\n",
    "df[\"age\"] = df[\"age\"].fillna(0).astype(int)\n",
    "print(df.dtypes)"
   ]
  },
  {
   "cell_type": "code",
   "execution_count": 35,
   "id": "66630b19",
   "metadata": {},
   "outputs": [
    {
     "name": "stdout",
     "output_type": "stream",
     "text": [
      "\n",
      "# ===== 9. 条件筛选（布尔索引） =====\n",
      "age>21:\n",
      "    name  age  score        date\n",
      "2  Anna   22    NaN  2024-06-03\n",
      "3  None   25   75.0  2024-06-04\n",
      "age>21且score>80:\n",
      "    name  age  score        date\n",
      "3  None   25   75.0  2024-06-04\n"
     ]
    }
   ],
   "source": [
    "print(\"\\n# ===== 9. 条件筛选（布尔索引） =====\")\n",
    "print(\"age>21:\\n\",df[df[\"age\"]>21])\n",
    "print(\"age>21且score>80:\\n\",df[(df[\"age\"]>21) & (df[\"score\"]>60)])"
   ]
  },
  {
   "cell_type": "code",
   "execution_count": 36,
   "id": "1f1e48c0",
   "metadata": {},
   "outputs": [
    {
     "name": "stdout",
     "output_type": "stream",
     "text": [
      "\n",
      "# ===== 10. 排序 =====\n",
      "    name  age  score        date\n",
      "1  Jerry    0   92.0  2024-06-02\n",
      "0    Tom   20   88.0  2024-06-01\n",
      "4    Tom   20   88.0  2024-06-05\n",
      "3   None   25   75.0  2024-06-04\n",
      "2   Anna   22    NaN  2024-06-03\n"
     ]
    }
   ],
   "source": [
    "print(\"\\n# ===== 10. 排序 =====\")\n",
    "print(df.sort_values(by=\"score\",ascending=False))"
   ]
  },
  {
   "cell_type": "code",
   "execution_count": 37,
   "id": "583dc3f3",
   "metadata": {},
   "outputs": [
    {
     "name": "stdout",
     "output_type": "stream",
     "text": [
      "\n",
      "# ===== 11. 分组统计 groupby =====\n",
      "按name分组求平均分：\n",
      " name\n",
      "Anna      NaN\n",
      "Jerry    92.0\n",
      "Tom      88.0\n",
      "Name: score, dtype: float64\n"
     ]
    }
   ],
   "source": [
    "print(\"\\n# ===== 11. 分组统计 groupby =====\")\n",
    "print(\"按name分组求平均分：\\n\",df.groupby(\"name\")[\"score\"].mean())"
   ]
  },
  {
   "cell_type": "code",
   "execution_count": 39,
   "id": "6aad8700",
   "metadata": {},
   "outputs": [
    {
     "name": "stdout",
     "output_type": "stream",
     "text": [
      "\n",
      "# ===== 12. 日期处理 =====\n",
      "年份列： 0    2024\n",
      "1    2024\n",
      "2    2024\n",
      "3    2024\n",
      "4    2024\n",
      "Name: date, dtype: int32\n",
      "月份列： 0    6\n",
      "1    6\n",
      "2    6\n",
      "3    6\n",
      "4    6\n",
      "Name: date, dtype: int32\n",
      "按月份分组统计平均分：\n",
      " date\n",
      "6    85.75\n",
      "Name: score, dtype: float64\n"
     ]
    }
   ],
   "source": [
    "print(\"\\n# ===== 12. 日期处理 =====\")\n",
    "df[\"date\"] = pd.to_datetime(df[\"date\"])\n",
    "print(\"年份列：\",df[\"date\"].dt.year)\n",
    "print(\"月份列：\",df[\"date\"].dt.month)\n",
    "print(\"按月份分组统计平均分：\\n\",df.groupby(df[\"date\"].dt.month)[\"score\"].mean())"
   ]
  },
  {
   "cell_type": "code",
   "execution_count": null,
   "id": "4d4fcf43",
   "metadata": {},
   "outputs": [],
   "source": []
  }
 ],
 "metadata": {
  "kernelspec": {
   "display_name": "ai-python",
   "language": "python",
   "name": "python3"
  },
  "language_info": {
   "codemirror_mode": {
    "name": "ipython",
    "version": 3
   },
   "file_extension": ".py",
   "mimetype": "text/x-python",
   "name": "python",
   "nbconvert_exporter": "python",
   "pygments_lexer": "ipython3",
   "version": "3.10.18"
  }
 },
 "nbformat": 4,
 "nbformat_minor": 5
}
