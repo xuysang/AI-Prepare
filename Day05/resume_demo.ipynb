{
 "cells": [
  {
   "cell_type": "code",
   "execution_count": 1,
   "id": "24195fc0",
   "metadata": {},
   "outputs": [],
   "source": [
    "from openai import OpenAI"
   ]
  },
  {
   "cell_type": "code",
   "execution_count": 13,
   "id": "0b6bd0e1",
   "metadata": {},
   "outputs": [
    {
     "name": "stdout",
     "output_type": "stream",
     "text": [
      "根据你提供的信息，我们可以直接进行初步匹配分析：  \n",
      "\n",
      "**岗位需求**：  \n",
      "- 精通 **Python**  \n",
      "- 精通 **数据分析**\n",
      "\n",
      "**简历信息**：  \n",
      "- 有 **3年C#经验**  \n",
      "- 没有提及Python  \n",
      "- 没有提及数据分析\n",
      "\n",
      "**匹配评估**：  \n",
      "- **Python技能**：未体现（0匹配）  \n",
      "- **数据分析技能**：未体现（0匹配）  \n",
      "- **相关性**：C#经验说明有一定的编程基础，但与岗位要求的Python和数据分析技能存在显著差距。  \n",
      "\n",
      "**匹配度结论**：  \n",
      "当前简历与岗位核心技能要求**匹配度低**，建议加强或补充以下内容：\n",
      "1. 补充Python开发经验（如有项目经验，请明确说明）  \n",
      "2. 补充数据分析经验，包括使用的工具（如Pandas、NumPy、SQL、Excel等）及项目案例  \n",
      "3. 突出可迁移技能（如算法思维、数据处理经验、编程基础）\n",
      "\n",
      "---\n",
      "\n",
      "如果你愿意，我可以帮你**把你的C#背景转化成可以凸显潜力的简历描述**，并建议如何快速补齐Python和数据分析的硬性条件，让你在投递中更有竞争力。  \n",
      "\n",
      "你希望我帮你做这个优化吗？\n"
     ]
    }
   ],
   "source": [
    "client = OpenAI(api_key=\"yi-0e9LAgCMVtZjlngmWHu20OpjsIsdxUQZpYTI\",base_url=\"https://yxai.chat/v1\")\n",
    "resp = client.chat.completions.create(\n",
    "    model=\"gpt-5-chat\",\n",
    "    messages=[\n",
    "        {\"role\": \"system\", \"content\": \"你是一个简历匹配专家\"},\n",
    "        {\"role\": \"user\", \"content\": \"岗位需求：精通Python和数据分析\\n简历：有3年C#经验\"}\n",
    "    ]\n",
    ")\n",
    "print(resp.choices[0].message.content)"
   ]
  },
  {
   "cell_type": "code",
   "execution_count": 6,
   "id": "1ed09f46",
   "metadata": {},
   "outputs": [],
   "source": [
    "from sklearn.metrics.pairwise import cosine_similarity\n",
    "import numpy as np"
   ]
  },
  {
   "cell_type": "code",
   "execution_count": null,
   "id": "1d3ac54c",
   "metadata": {},
   "outputs": [],
   "source": [
    "# client = OpenAI(api_key=\"yi-0e9LAgCMVtZjlngmWHu20OpjsIsdxUQZpYTI\",base_url=\"https://yxai.chat/v1\")\n",
    "# def get_embedding(text):\n",
    "#     resp = client.embeddings.create(\n",
    "#         model=\"text-embedding-ada-002\",\n",
    "#         input=text\n",
    "#     )\n",
    "#     return resp.data[0].embedding\n",
    "# jd = \"熟练Python，掌握Pandas和数据可视化\"\n",
    "# resume = \"三年C#经验，一年Python数据分析经验\"\n",
    "# vec_jd = get_embedding(jd)\n",
    "# vec_res = get_embedding(resume)\n",
    "# similarity = cosine_similarity([vec_jd], [vec_res])[0][0]\n",
    "# print(f\"匹配度: {similarity:.2f}\")"
   ]
  },
  {
   "cell_type": "code",
   "execution_count": 12,
   "id": "e68f58b5",
   "metadata": {},
   "outputs": [
    {
     "name": "stdout",
     "output_type": "stream",
     "text": [
      "匹配度: 0.63\n"
     ]
    }
   ],
   "source": [
    "client = OpenAI(api_key=\"sk-a2705715541e4f8c997f6db186c301c3\",base_url=\"https://dashscope.aliyuncs.com/compatible-mode/v1\")\n",
    "def get_embedding(text):\n",
    "    resp = client.embeddings.create(\n",
    "        model=\"text-embedding-v2\",\n",
    "        input=text\n",
    "    )\n",
    "    return resp.data[0].embedding\n",
    "jd = \"熟练Python，掌握Pandas和数据可视化\"\n",
    "resume = \"三年C#经验，一年Python数据分析经验\"\n",
    "vec_jd = get_embedding(jd)\n",
    "vec_res = get_embedding(resume)\n",
    "similarity = cosine_similarity([vec_jd], [vec_res])[0][0]\n",
    "print(f\"匹配度: {similarity:.2f}\")"
   ]
  },
  {
   "cell_type": "code",
   "execution_count": null,
   "id": "db6266bd",
   "metadata": {},
   "outputs": [],
   "source": []
  }
 ],
 "metadata": {
  "kernelspec": {
   "display_name": "ai-python",
   "language": "python",
   "name": "python3"
  },
  "language_info": {
   "codemirror_mode": {
    "name": "ipython",
    "version": 3
   },
   "file_extension": ".py",
   "mimetype": "text/x-python",
   "name": "python",
   "nbconvert_exporter": "python",
   "pygments_lexer": "ipython3",
   "version": "3.10.18"
  }
 },
 "nbformat": 4,
 "nbformat_minor": 5
}
