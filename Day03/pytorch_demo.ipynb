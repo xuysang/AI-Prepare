{
 "cells": [
  {
   "cell_type": "code",
   "execution_count": 1,
   "id": "76fcbb10",
   "metadata": {},
   "outputs": [],
   "source": [
    "import torch\n",
    "import torch.nn as nn\n",
    "import torch.optim as optim\n",
    "from torch.utils.data import TensorDataset,DataLoader"
   ]
  },
  {
   "cell_type": "code",
   "execution_count": 2,
   "id": "d4ebb442",
   "metadata": {},
   "outputs": [
    {
     "name": "stdout",
     "output_type": "stream",
     "text": [
      "Tensor x: tensor([[1., 2.],\n",
      "        [3., 4.]])\n",
      "加法: tensor([[2., 3.],\n",
      "        [4., 5.]])\n",
      "矩阵乘法: tensor([[3., 3.],\n",
      "        [7., 7.]])\n"
     ]
    }
   ],
   "source": [
    "# ======================\n",
    "# 1. Tensor 创建与运算\n",
    "# ======================\n",
    "x = torch.tensor([[1,2],[3,4]],dtype=torch.float32)\n",
    "print(\"Tensor x:\", x)\n",
    "print(\"加法:\", x+1)\n",
    "print(\"矩阵乘法:\",x@torch.ones((2,2))) # @表示相乘"
   ]
  },
  {
   "cell_type": "code",
   "execution_count": 3,
   "id": "f5adb354",
   "metadata": {},
   "outputs": [
    {
     "name": "stdout",
     "output_type": "stream",
     "text": [
      "a.grad: tensor([7., 9.])\n"
     ]
    }
   ],
   "source": [
    "# ======================\n",
    "# 2. 自动求导\n",
    "# ======================\n",
    "a = torch.tensor([2.0,3.0],requires_grad=True)\n",
    "b = a**2 + 3*a\n",
    "b.sum().backward()\n",
    "print(\"a.grad:\",a.grad)"
   ]
  },
  {
   "cell_type": "code",
   "execution_count": 4,
   "id": "85155ced",
   "metadata": {},
   "outputs": [],
   "source": [
    "# ======================\n",
    "# 3. 用随机数据做假分类任务\n",
    "# ======================\n",
    "x = torch.randn(200,10)\n",
    "y = torch.randint(0,3,(200,))\n",
    "dataset = TensorDataset(x,y)\n",
    "loader = DataLoader(dataset,batch_size=16,shuffle=True)"
   ]
  },
  {
   "cell_type": "code",
   "execution_count": 5,
   "id": "b3bd654a",
   "metadata": {},
   "outputs": [],
   "source": [
    "# ======================\n",
    "# 4. 定义简单全连接网络\n",
    "# ======================\n",
    "class SimpleNet(nn.Module):\n",
    "    def __init__(self):\n",
    "        super(SimpleNet,self).__init__()\n",
    "        self.fc1 = nn.Linear(10,32)\n",
    "        self.relu = nn.ReLU()\n",
    "        self.fc2 = nn.Linear(32,3)\n",
    "\n",
    "    def forward(self,x):\n",
    "        x = self.relu(self.fc1(x))\n",
    "        x = self.fc2(x)\n",
    "        return x\n",
    "model = SimpleNet()\n"
   ]
  },
  {
   "cell_type": "code",
   "execution_count": 6,
   "id": "5326e472",
   "metadata": {},
   "outputs": [],
   "source": [
    "# ======================\n",
    "# 5. 定义损失函数 & 优化器\n",
    "# ======================\n",
    "criterion = nn.CrossEntropyLoss()\n",
    "optimizer = optim.SGD(model.parameters(),lr=0.01)"
   ]
  },
  {
   "cell_type": "code",
   "execution_count": 7,
   "id": "4e6a0d5f",
   "metadata": {},
   "outputs": [
    {
     "name": "stdout",
     "output_type": "stream",
     "text": [
      "Epoch [1/5],Loss:1.1190\n",
      "Epoch [2/5],Loss:1.1102\n",
      "Epoch [3/5],Loss:1.1027\n",
      "Epoch [4/5],Loss:1.0960\n",
      "Epoch [5/5],Loss:1.0940\n",
      "训练结束！\n"
     ]
    }
   ],
   "source": [
    "# ======================\n",
    "# 6. 训练模型\n",
    "# ======================\n",
    "for epoch in range(5):\n",
    "    total_loss = 0.0\n",
    "    for X_batch,y_batch in loader:\n",
    "        outputs = model(X_batch)\n",
    "        loss = criterion(outputs,y_batch)\n",
    "        optimizer.zero_grad()\n",
    "        loss.backward()\n",
    "        optimizer.step()\n",
    "        total_loss+=loss.item()\n",
    "    print(f\"Epoch [{epoch+1}/5],Loss:{total_loss/len(loader):.4f}\")\n",
    "print(\"训练结束！\")"
   ]
  },
  {
   "cell_type": "code",
   "execution_count": 8,
   "id": "590033cd",
   "metadata": {},
   "outputs": [
    {
     "name": "stdout",
     "output_type": "stream",
     "text": [
      "模型预测类别: tensor([0, 1, 0, 1, 1])\n"
     ]
    }
   ],
   "source": [
    "# ======================\n",
    "# 7. 模型测试（随机数据）\n",
    "# ======================\n",
    "with torch.no_grad():\n",
    "    X_test = torch.randn(5,10)\n",
    "    preds = model(X_test)\n",
    "    pred_labels = preds.argmax(dim=1)\n",
    "    print(\"模型预测类别:\",pred_labels)"
   ]
  },
  {
   "cell_type": "code",
   "execution_count": null,
   "id": "044cc36d",
   "metadata": {},
   "outputs": [],
   "source": []
  }
 ],
 "metadata": {
  "kernelspec": {
   "display_name": "ai-python",
   "language": "python",
   "name": "python3"
  },
  "language_info": {
   "codemirror_mode": {
    "name": "ipython",
    "version": 3
   },
   "file_extension": ".py",
   "mimetype": "text/x-python",
   "name": "python",
   "nbconvert_exporter": "python",
   "pygments_lexer": "ipython3",
   "version": "3.10.18"
  }
 },
 "nbformat": 4,
 "nbformat_minor": 5
}
