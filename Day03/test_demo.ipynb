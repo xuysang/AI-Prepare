{
 "cells": [
  {
   "cell_type": "code",
   "execution_count": 1,
   "id": "f2afcce1",
   "metadata": {},
   "outputs": [],
   "source": [
    "import torch\n",
    "import torch.nn as nn\n",
    "import torch.optim as optim\n",
    "from torch.utils.data import TensorDataset,DataLoader"
   ]
  },
  {
   "cell_type": "code",
   "execution_count": 2,
   "id": "686c64fa",
   "metadata": {},
   "outputs": [
    {
     "data": {
      "text/plain": [
       "tensor([[1., 1.],\n",
       "        [1., 1.]])"
      ]
     },
     "execution_count": 2,
     "metadata": {},
     "output_type": "execute_result"
    }
   ],
   "source": [
    "torch.ones((2,2))"
   ]
  },
  {
   "cell_type": "code",
   "execution_count": 3,
   "id": "4ed4446e",
   "metadata": {},
   "outputs": [],
   "source": [
    "x = torch.randn(200,10)\n",
    "y = torch.randint(0,3,(200,))\n",
    "dataset = TensorDataset(x,y)"
   ]
  },
  {
   "cell_type": "code",
   "execution_count": 4,
   "id": "31f75fee",
   "metadata": {},
   "outputs": [
    {
     "data": {
      "text/plain": [
       "(tensor([-0.8610, -0.1029, -0.2099, -3.4677, -0.8830, -1.7375, -0.2512,  0.2036,\n",
       "          0.0580, -0.2287]),\n",
       " tensor(0))"
      ]
     },
     "execution_count": 4,
     "metadata": {},
     "output_type": "execute_result"
    }
   ],
   "source": [
    "dataset[2]"
   ]
  },
  {
   "cell_type": "code",
   "execution_count": 6,
   "id": "29a15ac3",
   "metadata": {},
   "outputs": [
    {
     "name": "stderr",
     "output_type": "stream",
     "text": [
      "Device set to use cpu\n"
     ]
    },
    {
     "name": "stdout",
     "output_type": "stream",
     "text": [
      "positive (stars 4 and 5)\n"
     ]
    }
   ],
   "source": [
    "from transformers import pipeline\n",
    "classifier = pipeline(\"sentiment-analysis\", model=\"uer/roberta-base-finetuned-jd-binary-chinese\")\n",
    "result = classifier(\"当地时间8月26日，特朗普媒体科技集团（DJT.O）宣布，与数字资产交易所Crypto以及SPAC上市企业约克维尔（Yorkville，代码：York.O）达成合并协议，将共同成立新公司TrumpMediaGroupCROStrategyInc。消息发布后，特朗普媒体科技集团周二开盘后涨幅一度超过8%，截至记者发稿，涨幅回落至4.7%。约克维尔公司股价则小幅上涨1%。\")\n",
    "print(result[0][\"label\"])"
   ]
  },
  {
   "cell_type": "code",
   "execution_count": null,
   "id": "1b053aff",
   "metadata": {},
   "outputs": [],
   "source": []
  }
 ],
 "metadata": {
  "kernelspec": {
   "display_name": "ai-python",
   "language": "python",
   "name": "python3"
  },
  "language_info": {
   "codemirror_mode": {
    "name": "ipython",
    "version": 3
   },
   "file_extension": ".py",
   "mimetype": "text/x-python",
   "name": "python",
   "nbconvert_exporter": "python",
   "pygments_lexer": "ipython3",
   "version": "3.10.18"
  }
 },
 "nbformat": 4,
 "nbformat_minor": 5
}
