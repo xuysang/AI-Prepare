{
 "cells": [
  {
   "cell_type": "code",
   "execution_count": 2,
   "id": "c1a63d87",
   "metadata": {},
   "outputs": [],
   "source": [
    "from transformers import AutoTokenizer, AutoModelForSequenceClassification"
   ]
  },
  {
   "cell_type": "code",
   "execution_count": 3,
   "id": "902d49e9",
   "metadata": {},
   "outputs": [],
   "source": [
    "model_name = \"uer/roberta-base-finetuned-jd-binary-chinese\"\n",
    "tokenizer = AutoTokenizer.from_pretrained(model_name)\n",
    "model = AutoModelForSequenceClassification.from_pretrained(model_name)"
   ]
  },
  {
   "cell_type": "code",
   "execution_count": 5,
   "id": "a9c15317",
   "metadata": {},
   "outputs": [
    {
     "data": {
      "text/plain": [
       "('./app_demo/model\\\\tokenizer_config.json',\n",
       " './app_demo/model\\\\special_tokens_map.json',\n",
       " './app_demo/model\\\\vocab.txt',\n",
       " './app_demo/model\\\\added_tokens.json',\n",
       " './app_demo/model\\\\tokenizer.json')"
      ]
     },
     "execution_count": 5,
     "metadata": {},
     "output_type": "execute_result"
    }
   ],
   "source": [
    "model.save_pretrained(\"./app_demo/model\")\n",
    "tokenizer.save_pretrained(\"./app_demo/model\")"
   ]
  },
  {
   "cell_type": "code",
   "execution_count": null,
   "id": "c55f44d9",
   "metadata": {},
   "outputs": [],
   "source": []
  }
 ],
 "metadata": {
  "kernelspec": {
   "display_name": "ai-python",
   "language": "python",
   "name": "python3"
  },
  "language_info": {
   "codemirror_mode": {
    "name": "ipython",
    "version": 3
   },
   "file_extension": ".py",
   "mimetype": "text/x-python",
   "name": "python",
   "nbconvert_exporter": "python",
   "pygments_lexer": "ipython3",
   "version": "3.10.18"
  }
 },
 "nbformat": 4,
 "nbformat_minor": 5
}
