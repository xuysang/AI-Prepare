{
 "cells": [
  {
   "cell_type": "code",
   "execution_count": 15,
   "id": "685f93a6",
   "metadata": {},
   "outputs": [
    {
     "name": "stdout",
     "output_type": "stream",
     "text": [
      "#========1.数据类型 list / dict / tuple / set ========\n"
     ]
    }
   ],
   "source": [
    "print(\"#========1.数据类型 list / dict / tuple / set ========\")"
   ]
  },
  {
   "cell_type": "code",
   "execution_count": 3,
   "id": "505748d4",
   "metadata": {},
   "outputs": [
    {
     "name": "stdout",
     "output_type": "stream",
     "text": [
      "list: [10, 2, 3, 4]\n"
     ]
    }
   ],
   "source": [
    "lst = [1,2,3]\n",
    "lst.append(4)\n",
    "lst[0]=10\n",
    "print(\"list:\",lst)"
   ]
  },
  {
   "cell_type": "code",
   "execution_count": 5,
   "id": "a2ef1c56",
   "metadata": {},
   "outputs": [
    {
     "name": "stdout",
     "output_type": "stream",
     "text": [
      "dict {'name': 'xuys', 'age': 30, 'city': 'Hangzhou'}\n"
     ]
    }
   ],
   "source": [
    "dct = {\"name\":\"xuys\",\"age\":30}\n",
    "dct[\"city\"] = \"Hangzhou\"\n",
    "print(\"dict\",dct)"
   ]
  },
  {
   "cell_type": "code",
   "execution_count": 7,
   "id": "40923d99",
   "metadata": {},
   "outputs": [
    {
     "name": "stdout",
     "output_type": "stream",
     "text": [
      "tuple: (1, 2, 3)\n"
     ]
    }
   ],
   "source": [
    "tpl=(1,2,3)\n",
    "print(\"tuple:\",tpl)"
   ]
  },
  {
   "cell_type": "code",
   "execution_count": 8,
   "id": "953397b4",
   "metadata": {},
   "outputs": [
    {
     "name": "stdout",
     "output_type": "stream",
     "text": [
      "set {1, 2, 3, 4, 5}\n"
     ]
    }
   ],
   "source": [
    "st = {1,2,2,3,4}\n",
    "st.add(5)\n",
    "print(\"set\",st)"
   ]
  },
  {
   "cell_type": "code",
   "execution_count": 10,
   "id": "225e1a72",
   "metadata": {},
   "outputs": [
    {
     "name": "stdout",
     "output_type": "stream",
     "text": [
      "\n",
      "# 练习1：去重列表\n",
      "原列表: [1, 2, 3, 3, 4]\n",
      "去重集合： {1, 2, 3, 4}\n"
     ]
    }
   ],
   "source": [
    "# 练习：创建一个列表和集合，尝试去重列表中的元素\n",
    "print(\"\\n# 练习1：去重列表\")\n",
    "my_list = [1,2,3,3,4]\n",
    "unique_set = set(my_list)\n",
    "print(\"原列表:\",my_list)\n",
    "print(\"去重集合：\",unique_set)"
   ]
  },
  {
   "cell_type": "code",
   "execution_count": 12,
   "id": "659d1f61",
   "metadata": {},
   "outputs": [
    {
     "name": "stdout",
     "output_type": "stream",
     "text": [
      "\n",
      "# ===== 2. 条件 & 循环 =====\n",
      "正数\n"
     ]
    }
   ],
   "source": [
    "print(\"\\n# ===== 2. 条件 & 循环 =====\")\n",
    "x = 5\n",
    "if x>0:\n",
    "    print(\"正数\")\n",
    "elif x==0:\n",
    "    print(\"零\")\n",
    "else:\n",
    "    print(\"负数\")"
   ]
  },
  {
   "cell_type": "code",
   "execution_count": 13,
   "id": "eb969ec9",
   "metadata": {},
   "outputs": [
    {
     "name": "stdout",
     "output_type": "stream",
     "text": [
      "for循环： 0\n",
      "for循环： 1\n",
      "for循环： 2\n"
     ]
    }
   ],
   "source": [
    "for i in range(3):\n",
    "    print(\"for循环：\",i)"
   ]
  },
  {
   "cell_type": "code",
   "execution_count": 16,
   "id": "1948ab50",
   "metadata": {},
   "outputs": [
    {
     "name": "stdout",
     "output_type": "stream",
     "text": [
      "while循环： 0\n",
      "while循环： 1\n",
      "while循环： 2\n"
     ]
    }
   ],
   "source": [
    "while n <3:\n",
    "    print(\"while循环：\",n)\n",
    "    n+=1"
   ]
  },
  {
   "cell_type": "code",
   "execution_count": 17,
   "id": "d9eb1a86",
   "metadata": {},
   "outputs": [
    {
     "name": "stdout",
     "output_type": "stream",
     "text": [
      "练习2：打印偶数\n",
      "2 4 6 8 10 "
     ]
    }
   ],
   "source": [
    "print(\"练习2：打印偶数\")\n",
    "for i in range(1,11):\n",
    "    if i%2==0:\n",
    "        print(i,end=\" \")"
   ]
  },
  {
   "cell_type": "code",
   "execution_count": 18,
   "id": "6b7a56ca",
   "metadata": {},
   "outputs": [
    {
     "name": "stdout",
     "output_type": "stream",
     "text": [
      "\n",
      "# ===== 3. 函数（位置/关键字/可变参数） =====\n",
      "Hello,Tom!\n"
     ]
    }
   ],
   "source": [
    "print(\"\\n# ===== 3. 函数（位置/关键字/可变参数） =====\")\n",
    "# 位置参数\n",
    "def greet(name):\n",
    "    print(f\"Hello,{name}!\")\n",
    "greet(\"Tom\")"
   ]
  },
  {
   "cell_type": "code",
   "execution_count": 19,
   "id": "b6669145",
   "metadata": {},
   "outputs": [
    {
     "name": "stdout",
     "output_type": "stream",
     "text": [
      "Hello,Jerry!\n"
     ]
    }
   ],
   "source": [
    "def greet2(name,msg=\"Hi\"):\n",
    "    print(f\"{msg},{name}!\")\n",
    "greet2(\"Jerry\",msg=\"Hello\")"
   ]
  },
  {
   "cell_type": "code",
   "execution_count": 20,
   "id": "5a184fb1",
   "metadata": {},
   "outputs": [
    {
     "name": "stdout",
     "output_type": "stream",
     "text": [
      "Sum: 6\n"
     ]
    }
   ],
   "source": [
    "def add(*args):\n",
    "    return sum(args)\n",
    "print(\"Sum:\",add(1,2,3))"
   ]
  },
  {
   "cell_type": "code",
   "execution_count": 21,
   "id": "8472cf43",
   "metadata": {},
   "outputs": [
    {
     "name": "stdout",
     "output_type": "stream",
     "text": [
      "name : Mike\n",
      "age : 18\n"
     ]
    }
   ],
   "source": [
    "def show_info(**kwargs):\n",
    "    for k,v in kwargs.items():\n",
    "        print(k,\":\",v)\n",
    "show_info(name=\"Mike\",age=18)"
   ]
  },
  {
   "cell_type": "code",
   "execution_count": 22,
   "id": "157fde46",
   "metadata": {},
   "outputs": [
    {
     "name": "stdout",
     "output_type": "stream",
     "text": [
      "\n",
      "# 练习3：最大最小值函数\n",
      "(1, 9)\n"
     ]
    }
   ],
   "source": [
    "print(\"\\n# 练习3：最大最小值函数\")\n",
    "def min_max(data):\n",
    "    return min(data),max(data)\n",
    "print(min_max([3,8,1,9]))"
   ]
  },
  {
   "cell_type": "code",
   "execution_count": 26,
   "id": "e5b911ef",
   "metadata": {},
   "outputs": [
    {
     "name": "stdout",
     "output_type": "stream",
     "text": [
      "\n",
      "# ===== 4. 异常处理 try-except =====\n",
      "发生错误 invalid literal for int() with base 10: 'abc'\n",
      "执行结束\n"
     ]
    }
   ],
   "source": [
    "print(\"\\n# ===== 4. 异常处理 try-except =====\")\n",
    "try:\n",
    "    num = int(\"abc\")\n",
    "except ValueError as e:\n",
    "    print(\"发生错误\",e)\n",
    "else:\n",
    "    print(\"没有异常\")\n",
    "finally:\n",
    "    print(\"执行结束\")"
   ]
  },
  {
   "cell_type": "code",
   "execution_count": 27,
   "id": "bdf44d14",
   "metadata": {},
   "outputs": [
    {
     "name": "stdout",
     "output_type": "stream",
     "text": [
      "\n",
      "# 练习4：处理索引越界\n",
      "索引错误： list index out of range\n"
     ]
    }
   ],
   "source": [
    "print(\"\\n# 练习4：处理索引越界\")\n",
    "try:\n",
    "    data = [1,2,3]\n",
    "    print(data[5])\n",
    "except IndexError as e:\n",
    "    print(\"索引错误：\", e)"
   ]
  },
  {
   "cell_type": "code",
   "execution_count": 29,
   "id": "2e4fc3cf",
   "metadata": {},
   "outputs": [
    {
     "name": "stdout",
     "output_type": "stream",
     "text": [
      "\n",
      "# ===== 5. 模块导入 import =====\n",
      "圆周率： 3.141592653589793\n",
      "√16 = 4.0\n"
     ]
    }
   ],
   "source": [
    "print(\"\\n# ===== 5. 模块导入 import =====\")\n",
    "import math\n",
    "from math import sqrt\n",
    "print(\"圆周率：\", math.pi)\n",
    "print(\"√16 =\", sqrt(16))"
   ]
  },
  {
   "cell_type": "code",
   "execution_count": 30,
   "id": "0f018fd8",
   "metadata": {},
   "outputs": [
    {
     "name": "stdout",
     "output_type": "stream",
     "text": [
      "\n",
      "# 练习5：随机整数\n",
      "随机数： 10\n"
     ]
    }
   ],
   "source": [
    "print(\"\\n# 练习5：随机整数\")\n",
    "import random\n",
    "rand_num = random.randint(1,100)\n",
    "print(\"随机数：\",rand_num)"
   ]
  },
  {
   "cell_type": "code",
   "execution_count": 31,
   "id": "6dd3a330",
   "metadata": {},
   "outputs": [
    {
     "name": "stdout",
     "output_type": "stream",
     "text": [
      "\n",
      "# ===== 6. 推导式（列表 / 字典） =====\n",
      "nums: [0, 1, 2, 3, 4]\n",
      "squares: [0, 1, 4, 9, 16]\n"
     ]
    }
   ],
   "source": [
    "print(\"\\n# ===== 6. 推导式（列表 / 字典） =====\")\n",
    "nums = [x for x in range(5)]\n",
    "squares = [x**2 for x in range(5)]\n",
    "print(\"nums:\",nums)\n",
    "print(\"squares:\",squares)"
   ]
  },
  {
   "cell_type": "code",
   "execution_count": 33,
   "id": "14bacf67",
   "metadata": {},
   "outputs": [
    {
     "name": "stdout",
     "output_type": "stream",
     "text": [
      "square_dict: {0: 0, 1: 1, 2: 4, 3: 9, 4: 16}\n"
     ]
    }
   ],
   "source": [
    "square_dict = {x:x**2 for x in range(5)}\n",
    "print(\"square_dict:\",square_dict)"
   ]
  },
  {
   "cell_type": "code",
   "execution_count": 35,
   "id": "33a194e4",
   "metadata": {},
   "outputs": [
    {
     "name": "stdout",
     "output_type": "stream",
     "text": [
      "even_squares: [0, 4, 16, 36, 64]\n"
     ]
    }
   ],
   "source": [
    "even_squares=[x**2 for x in range(10) if x%2 ==0]\n",
    "print(\"even_squares:\",even_squares)"
   ]
  },
  {
   "cell_type": "code",
   "execution_count": 36,
   "id": "79a9f20e",
   "metadata": {},
   "outputs": [
    {
     "name": "stdout",
     "output_type": "stream",
     "text": [
      "\n",
      "# 练习6：集合推导式\n",
      "{225, 36, 324, 9, 144, 81}\n",
      "\n",
      "# ===== 复习结束 =====\n"
     ]
    }
   ],
   "source": [
    "print(\"\\n# 练习6：集合推导式\")\n",
    "three_square_set = {x**2 for x in range(1,21) if x%3==0}\n",
    "print(three_square_set)\n",
    "print(\"\\n# ===== 复习结束 =====\")"
   ]
  },
  {
   "cell_type": "code",
   "execution_count": null,
   "id": "6735b796",
   "metadata": {},
   "outputs": [],
   "source": []
  }
 ],
 "metadata": {
  "kernelspec": {
   "display_name": "ai-python",
   "language": "python",
   "name": "python3"
  },
  "language_info": {
   "codemirror_mode": {
    "name": "ipython",
    "version": 3
   },
   "file_extension": ".py",
   "mimetype": "text/x-python",
   "name": "python",
   "nbconvert_exporter": "python",
   "pygments_lexer": "ipython3",
   "version": "3.10.18"
  }
 },
 "nbformat": 4,
 "nbformat_minor": 5
}
