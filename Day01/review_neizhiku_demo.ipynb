{
 "cells": [
  {
   "cell_type": "code",
   "execution_count": 1,
   "id": "b47115e4",
   "metadata": {},
   "outputs": [],
   "source": [
    "# ===============================\n",
    "# Python 常用标准库快速复习\n",
    "# os（目录与文件操作）\n",
    "# sys（系统参数）\n",
    "# json（读写JSON）\n",
    "# re（正则表达式）\n",
    "# datetime（时间处理）\n",
    "# ==============================="
   ]
  },
  {
   "cell_type": "code",
   "execution_count": 5,
   "id": "9d76a872",
   "metadata": {},
   "outputs": [
    {
     "name": "stdout",
     "output_type": "stream",
     "text": [
      "\n",
      "# ===== 1. os：目录与文件操作 =====\n",
      "当前工作目录： f:\\code\\python\\AI-Prepare\\WEEK01\n",
      "当前目录列表： ['base_demo,py', 'list_demo.py', 'review_demo.ipynb', 'review_neizhiku_demo.ipynb']\n",
      "已创建test_dir目录\n"
     ]
    }
   ],
   "source": [
    "print(\"\\n# ===== 1. os：目录与文件操作 =====\")\n",
    "import os\n",
    "print(\"当前工作目录：\",os.getcwd())\n",
    "print(\"当前目录列表：\",os.listdir(\".\"))\n",
    "if not os.path.exists(\"test_dir\"):\n",
    "    os.mkdir(\"test_dir\")\n",
    "    print(\"已创建test_dir目录\")\n",
    "else:\n",
    "    os.rmdir(\"test_dir\")\n",
    "    print(\"已删除test_dir目录\")"
   ]
  },
  {
   "cell_type": "code",
   "execution_count": 7,
   "id": "c781df1b",
   "metadata": {},
   "outputs": [
    {
     "name": "stdout",
     "output_type": "stream",
     "text": [
      "拼接路径： f:\\code\\python\\AI-Prepare\\WEEK01\\example.txt\n",
      "\n",
      "# 练习1：文件写入\n",
      "文件内容： Hello,Python OS moudle!\n",
      "\n"
     ]
    }
   ],
   "source": [
    "file_path = os.path.join(os.getcwd(),\"example.txt\")\n",
    "print(\"拼接路径：\",file_path)\n",
    "print(\"\\n# 练习1：文件写入\")\n",
    "with open(file_path,\"w\",encoding=\"utf-8\") as f:\n",
    "    f.write(\"Hello,Python OS moudle!\\n\")\n",
    "with open(file_path,\"r\",encoding=\"utf-8\") as f:\n",
    "    print(\"文件内容：\",f.read())"
   ]
  },
  {
   "cell_type": "code",
   "execution_count": 9,
   "id": "99fedd21",
   "metadata": {},
   "outputs": [
    {
     "name": "stdout",
     "output_type": "stream",
     "text": [
      "\n",
      "# ===== 2. sys：系统参数 =====\n",
      "sys.argv: ['f:\\\\software\\\\Anaconda\\\\envs\\\\ai-python\\\\lib\\\\site-packages\\\\ipykernel_launcher.py', '--f=c:\\\\Users\\\\46692\\\\AppData\\\\Roaming\\\\jupyter\\\\runtime\\\\kernel-v3f2b3c6df768b048393e9b41d42b40260fa156161.json']\n",
      "python版本： 3.10.18 | packaged by Anaconda, Inc. | (main, Jun  5 2025, 13:08:55) [MSC v.1929 64 bit (AMD64)]\n",
      "模块搜索路径： ['f:\\\\software\\\\Anaconda\\\\envs\\\\ai-python\\\\python310.zip', 'f:\\\\software\\\\Anaconda\\\\envs\\\\ai-python\\\\DLLs', 'f:\\\\software\\\\Anaconda\\\\envs\\\\ai-python\\\\lib', 'f:\\\\software\\\\Anaconda\\\\envs\\\\ai-python', '', 'f:\\\\software\\\\Anaconda\\\\envs\\\\ai-python\\\\lib\\\\site-packages', 'f:\\\\software\\\\Anaconda\\\\envs\\\\ai-python\\\\lib\\\\site-packages\\\\win32', 'f:\\\\software\\\\Anaconda\\\\envs\\\\ai-python\\\\lib\\\\site-packages\\\\win32\\\\lib', 'f:\\\\software\\\\Anaconda\\\\envs\\\\ai-python\\\\lib\\\\site-packages\\\\Pythonwin']\n"
     ]
    }
   ],
   "source": [
    "print(\"\\n# ===== 2. sys：系统参数 =====\")\n",
    "import sys\n",
    "print(\"sys.argv:\",sys.argv)\n",
    "print(\"python版本：\",sys.version)\n",
    "print(\"模块搜索路径：\",sys.path)"
   ]
  },
  {
   "cell_type": "code",
   "execution_count": 14,
   "id": "7d3347f9",
   "metadata": {},
   "outputs": [
    {
     "name": "stdout",
     "output_type": "stream",
     "text": [
      "\n",
      "# ===== 3. json：读写 JSON =====\n",
      "json字符串： {\"name\": \"xuys\", \"age\": 30, \"skills\": [\"python\", \".net\"]}\n",
      "反序列化： {'name': 'xuys', 'age': 30, 'skills': ['python', '.net']}\n",
      "从文件读取json: <class 'dict'>\n"
     ]
    }
   ],
   "source": [
    "print(\"\\n# ===== 3. json：读写 JSON =====\")\n",
    "import json\n",
    "data = {\"name\":\"xuys\",\"age\":30,\"skills\":[\"python\",\".net\"]}\n",
    "json_str = json.dumps(data,ensure_ascii=False)\n",
    "print(\"json字符串：\",json_str)\n",
    "with open(\"data.json\",\"w\",encoding=\"utf-8\") as f:\n",
    "    json.dump(data,f,ensure_ascii=False)\n",
    "python_obj = json.loads(json_str)\n",
    "print(\"反序列化：\",python_obj)\n",
    "\n",
    "with open(\"data.json\",\"r\",encoding=\"utf-8\") as f:\n",
    "    python_obj2 = json.load(f)\n",
    "    print(\"从文件读取json:\",type(python_obj2))\n"
   ]
  },
  {
   "cell_type": "code",
   "execution_count": 20,
   "id": "cb38240b",
   "metadata": {},
   "outputs": [
    {
     "name": "stdout",
     "output_type": "stream",
     "text": [
      "\n",
      "# ===== 4. re：正则表达式 =====\n",
      "手机号： ['123-456-7890']\n",
      "邮箱： ['test@example.com']\n",
      "匹配到: 123\n",
      "替换数字: My phone number is ***-***-**** and email is test@example.com\n",
      "\n",
      "# 练习2：提取英文单词\n",
      "['My', 'phone', 'number', 'is', 'and', 'email', 'is', 'test', 'example', 'com']\n"
     ]
    }
   ],
   "source": [
    "print(\"\\n# ===== 4. re：正则表达式 =====\")\n",
    "import re\n",
    "text = \"My phone number is 123-456-7890 and email is test@example.com\"\n",
    "phones = re.findall(r\"\\d{3}-\\d{3}-\\d{4}\",text)\n",
    "print(\"手机号：\",phones)\n",
    "emails = re.findall(r\"[\\w.-]+@[\\w.-]+\",text)\n",
    "print(\"邮箱：\",emails)\n",
    "match = re.search(r\"\\d{3}\",text)\n",
    "if match:\n",
    "    print(\"匹配到:\",match.group())\n",
    "\n",
    "new_text = re.sub(r\"\\d\",\"*\",text)\n",
    "print(\"替换数字:\",new_text)\n",
    "print(\"\\n# 练习2：提取英文单词\")\n",
    "words = re.findall(r\"[A-Za-z]+\",text)\n",
    "print(words)"
   ]
  },
  {
   "cell_type": "code",
   "execution_count": 27,
   "id": "76422bf7",
   "metadata": {},
   "outputs": [
    {
     "name": "stdout",
     "output_type": "stream",
     "text": [
      "\n",
      "# ===== 5. datetime：时间处理 =====\n",
      "当前时间： 2025-08-27 17:38:03.513441\n",
      "格式化时间： 2025-08-27 17:38:03\n",
      "字符串转datetime: 2025-08-27 12:00:00\n",
      "明天： 2025-08-28 17:38:03.513441\n",
      "昨天： 2025-08-26 17:38:03.513441\n",
      "计算日期差\n",
      "相差天数： 12\n"
     ]
    }
   ],
   "source": [
    "print(\"\\n# ===== 5. datetime：时间处理 =====\")\n",
    "from datetime import datetime,timedelta\n",
    "now = datetime.now()\n",
    "print(\"当前时间：\",now)\n",
    "print(\"格式化时间：\",now.strftime(\"%Y-%m-%d %H:%M:%S\"))\n",
    "\n",
    "date_str = \"2025-8-27 12:00:00\"\n",
    "dt_obj = datetime.strptime(date_str,\"%Y-%m-%d %H:%M:%S\")\n",
    "print(\"字符串转datetime:\",dt_obj)\n",
    "\n",
    "# 日期计算\n",
    "tomorrow = now + timedelta(days=1)\n",
    "yesterday = now - timedelta(days=1)\n",
    "print(\"明天：\",tomorrow)\n",
    "print(\"昨天：\",yesterday)\n",
    "\n",
    "print(\"计算日期差\")\n",
    "date1 = datetime(2025,8,27)\n",
    "date2 = datetime(2025,8,15)\n",
    "delta = date1-date2\n",
    "print(\"相差天数：\",delta.days)"
   ]
  },
  {
   "cell_type": "code",
   "execution_count": null,
   "id": "a23600e0",
   "metadata": {},
   "outputs": [],
   "source": []
  }
 ],
 "metadata": {
  "kernelspec": {
   "display_name": "ai-python",
   "language": "python",
   "name": "python3"
  },
  "language_info": {
   "codemirror_mode": {
    "name": "ipython",
    "version": 3
   },
   "file_extension": ".py",
   "mimetype": "text/x-python",
   "name": "python",
   "nbconvert_exporter": "python",
   "pygments_lexer": "ipython3",
   "version": "3.10.18"
  }
 },
 "nbformat": 4,
 "nbformat_minor": 5
}
